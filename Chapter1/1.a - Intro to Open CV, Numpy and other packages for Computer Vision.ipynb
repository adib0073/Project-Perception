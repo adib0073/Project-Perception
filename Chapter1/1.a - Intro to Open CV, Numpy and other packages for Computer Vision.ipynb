{
 "cells": [
  {
   "cell_type": "markdown",
   "metadata": {},
   "source": [
    "## 1.a - Intro to Open CV, Numpy and other packages for Computer Vision"
   ]
  },
  {
   "cell_type": "markdown",
   "metadata": {},
   "source": [
    "<p style='text-align: justify;'> \n",
    "\n",
    "Python is not the only language to implement computer vision in practice. But the very fact that, it is one of the easiest languages to learn, and develop an end to end solution using the vast and efficient python packages, platform agnostic nature and an extremely large and proactive community, makes Python my first choice for implementing computer vision in practice.\n",
    "\n",
    "Now, before we even begin the actual learning, let's get our environment ready!\n",
    "\n",
    "</p>\n",
    "\n",
    "### Setting up the environment:\n",
    "\n",
    "<p style='text-align: justify;'>\n",
    "\n",
    "In some platforms, installing Python, setting up environment variables and individually installing the packages can be extremely difficult and cumbersome. This is the only reason, I am going with the [Anaconda distribution of Python](https://www.anaconda.com/distribution/) for many years now. The anaconda version of the python comes along with most of the popular python packages like numpy, pandas etc. and most pre-configured and easy to install in any platform, and hence it saves a lot of time in getting the infratsructure sorted. Also, just a note, I know since the entire Python ecosystem is growing massively every single day, is it possible that you might run into compatibility issues due to version mismatch of the packages. I will try my best, to mention the package versions that I will be using and my humble apology if I have missed in doing so. In such cases, please do drop me a note and I will try my best to rectify the mistakes at the earliest.\n",
    "\n",
    "Nowadays, I prefer using Jupyter Notebooks to work on any problem, mostly because of the interactive nature of notebooks, and helps me to have a line by line understanding of code I am writing. So, for executing the code or projects mentioned in this book, I would strongly recommend all the readers to use Jupyter Notebooks. The Python version that I am using is **Python 3.7**.\n",
    "\n",
    "Coming to the most important package that we will be using for Computer Vision related experiments is [Open-CV](https://opencv.org/) which is also one of the most popular packages to be used across the world for computer vision related work.\n",
    "\n",
    "So, let's take a look of how to install open-cv. Also just a note, I download most of my python packages using the popular *pip* installer and I prefer searching my modules from https://pypi.org/ . I will be using Jupyter notebooks to install my Python packages. So, once the notebook is running in your local browser, open the notebook and execute the following command:\n",
    "\n",
    "</p>"
   ]
  },
  {
   "cell_type": "code",
   "execution_count": 1,
   "metadata": {},
   "outputs": [],
   "source": [
    "#! pip install opencv-python\n",
    "# LinK : https://pypi.org/project/opencv-python/"
   ]
  },
  {
   "cell_type": "markdown",
   "metadata": {},
   "source": [
    "Once the installation is successful, you can cross verify by importing the package and checking the version"
   ]
  },
  {
   "cell_type": "code",
   "execution_count": 2,
   "metadata": {},
   "outputs": [
    {
     "name": "stdout",
     "output_type": "stream",
     "text": [
      "4.1.0\n"
     ]
    }
   ],
   "source": [
    "import cv2\n",
    "\n",
    "print(cv2.__version__)"
   ]
  },
  {
   "cell_type": "markdown",
   "metadata": {},
   "source": [
    "So, the version that I will be using for Open-CV is 4.1.0.\n",
    "\n",
    "The important python packages that we will be primarily using is matplotlib for visualization, numpy for mathematical and numerical operations and pandas for some of the data related operations. But we might be using other packages later which I will be introducing later. Now, the anaconda distribution should have all these packages pre-installed. In case if not, we will be installing using the pip installer from PyPi."
   ]
  },
  {
   "cell_type": "code",
   "execution_count": 3,
   "metadata": {},
   "outputs": [],
   "source": [
    "#! pip install numpy \n",
    "#! pip install matplotlib\n",
    "#! pip install pandas"
   ]
  },
  {
   "cell_type": "markdown",
   "metadata": {},
   "source": [
    "And similarly we will be verifying by importing these packages and checking the versions"
   ]
  },
  {
   "cell_type": "code",
   "execution_count": 6,
   "metadata": {},
   "outputs": [
    {
     "name": "stdout",
     "output_type": "stream",
     "text": [
      "numpy: 1.16.4\n",
      "matplotlib: 2.2.2\n",
      "pandas: 0.23.4\n",
      "So, these are the package versions I will be using throughout.\n"
     ]
    }
   ],
   "source": [
    "import numpy\n",
    "print('numpy:',numpy.__version__)\n",
    "\n",
    "import matplotlib\n",
    "print('matplotlib:',matplotlib.__version__)\n",
    "\n",
    "import pandas\n",
    "print('pandas:',pandas.__version__)\n",
    "\n",
    "print('So, these are the package versions I will be using throughout.')"
   ]
  },
  {
   "cell_type": "markdown",
   "metadata": {},
   "source": [
    "And thus we are ready with our environment! Now, as a pre-requisite for this book, I would expect my readers are quite comfortable with python programming and have used all of these packages atleast once for small projects or academic purposes. Otherwise it might be difficult to understand some of the concepts that I will be explaining with these packages. Basic intuition on machine learning and deep learning is also recommended. \n",
    "\n",
    "It's okay, if it this not the case, but trust me, before we proceed, this is the best time to brush up the python programming skills if it is rusty!"
   ]
  },
  {
   "cell_type": "markdown",
   "metadata": {},
   "source": [
    "TO-DO:\n",
    "###### Helpful Resources and Citations\n",
    "\n",
    "HR: https://www.pyimagesearch.com/2018/07/19/opencv-tutorial-a-guide-to-learn-opencv/"
   ]
  }
 ],
 "metadata": {
  "kernelspec": {
   "display_name": "Python 3",
   "language": "python",
   "name": "python3"
  },
  "language_info": {
   "codemirror_mode": {
    "name": "ipython",
    "version": 3
   },
   "file_extension": ".py",
   "mimetype": "text/x-python",
   "name": "python",
   "nbconvert_exporter": "python",
   "pygments_lexer": "ipython3",
   "version": "3.8.3"
  }
 },
 "nbformat": 4,
 "nbformat_minor": 2
}
